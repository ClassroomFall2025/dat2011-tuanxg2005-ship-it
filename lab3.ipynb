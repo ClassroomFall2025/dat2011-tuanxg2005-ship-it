{
 "cells": [
  {
   "cell_type": "markdown",
   "id": "fdeff819",
   "metadata": {},
   "source": [
    "# Sinh Viên thực hiện Lab 3 ở Đây"
   ]
  },
  {
   "cell_type": "markdown",
   "id": "acc5d7dc",
   "metadata": {},
   "source": [
    "## Lab 3 - Bài 1"
   ]
  },
  {
   "cell_type": "code",
   "execution_count": 1,
   "id": "001e0507",
   "metadata": {},
   "outputs": [
    {
     "name": "stdout",
     "output_type": "stream",
     "text": [
      "Vui lòng nhập số hoặc 'q' để thoát\n",
      "Vui lòng nhập số hoặc 'q' để thoát\n",
      "Vui lòng nhập số hoặc 'q' để thoát\n",
      "Vui lòng nhập số hoặc 'q' để thoát\n",
      "Vui lòng nhập số hoặc 'q' để thoát\n",
      "Vui lòng nhập số hoặc 'q' để thoát\n",
      "Vui lòng nhập số hoặc 'q' để thoát\n",
      "Vui lòng nhập số hoặc 'q' để thoát\n",
      "thoát chương trình\n",
      "[12, 2, 3, 4, 1, 1, 1, 1, 1, 1, 1, 1, 1, 1, 8, 9, 4, 7, 9, 1, 2, 2, 2, 2, 2, 2]\n",
      "Dãy số sắp xếp: [1, 1, 1, 1, 1, 1, 1, 1, 1, 1, 1, 2, 2, 2, 2, 2, 2, 2, 3, 4, 4, 7, 8, 9, 9, 12]\n",
      "Giá trị nhỏ nhất: 1\n",
      "Giá trị lớn nhất: 12\n",
      "[12, 9, 9, 8, 7, 4, 4, 3, 2, 2, 2, 2, 2, 2, 2, 1, 1, 1, 1, 1, 1, 1, 1, 1, 1, 1]\n",
      "Giá trị nhỏ nhất: 1\n",
      "Giá trị lớn nhất: 12\n",
      "12\n",
      "9\n",
      "9\n",
      "8\n",
      "7\n",
      "4\n",
      "4\n",
      "3\n",
      "2\n",
      "2\n",
      "2\n",
      "2\n",
      "2\n",
      "2\n",
      "2\n",
      "1\n",
      "1\n",
      "1\n",
      "1\n",
      "1\n",
      "1\n",
      "1\n",
      "1\n",
      "1\n",
      "1\n",
      "1\n",
      "Tổng các số chia hết cho 3 là: 33\n",
      "có 4 số chia hết cho 3\n",
      "Trung bình cộng các số chia hết cho 3 là: 8.25\n",
      "Các số chia hết cho 3 là: [12, 9, 9, 3]\n"
     ]
    }
   ],
   "source": [
    "# Code lab 3 bài 1 ở đây\n",
    "day_so=[]\n",
    "tong=0\n",
    "dem=0\n",
    "day_so_chia_het_3=[]\n",
    "while True:\n",
    "    so = input(\"Nhập số: \")\n",
    "    if so == 'q':\n",
    "        print(\"thoát chương trình\")\n",
    "        break\n",
    "    else:\n",
    "        try:\n",
    "            phan_tu = int(so)\n",
    "            day_so.append(phan_tu)\n",
    "        except ValueError:\n",
    "            print(\"Vui lòng nhập số hoặc 'q' để thoát\")\n",
    "print(day_so)\n",
    "# Sắp xếp dãy số tăng dần\n",
    "day_so.sort()\n",
    "print(\"Dãy số sắp xếp:\", day_so)\n",
    "#giá trị nhỏ nhất\n",
    "print(\"Giá trị nhỏ nhất:\", day_so[0])\n",
    "print(\"Giá trị lớn nhất:\", day_so[-1])\n",
    "#sắp xếp dãy số giảm dần\n",
    "day_so.sort(reverse=True)\n",
    "print(day_so)\n",
    "print(\"Giá trị nhỏ nhất:\", day_so[-1])\n",
    "print(\"Giá trị lớn nhất:\", day_so[0])   \n",
    "#duyệt danh sách\n",
    "for n in day_so:\n",
    "    print(n)\n",
    "# kiểm tra từng phần tử\n",
    "for n in day_so:\n",
    "    if n % 3 == 0:\n",
    "        tong= tong + n\n",
    "        dem= dem + 1\n",
    "        day_so_chia_het_3.append(n)\n",
    "print(\"Tổng các số chia hết cho 3 là:\", tong)\n",
    "print(f\"có {dem} số chia hết cho 3\")\n",
    "if dem != 0:\n",
    "    print(\"Trung bình cộng các số chia hết cho 3 là:\", tong / dem)\n",
    "else:\n",
    "    print(\"Không có số nào chia hết cho 3\")\n",
    "print(\"Các số chia hết cho 3 là:\", day_so_chia_het_3)"
   ]
  },
  {
   "cell_type": "markdown",
   "id": "c0835310",
   "metadata": {},
   "source": [
    "## Lab 3 - Bài 2"
   ]
  },
  {
   "cell_type": "code",
   "execution_count": null,
   "id": "fa9cb39f",
   "metadata": {},
   "outputs": [
    {
     "name": "stdout",
     "output_type": "stream",
     "text": [
      "Xin chào khoa, bạn xếp loại: xuất sắc\n",
      "[{'tên': 'phúc', 'điểm': 2.0, 'xếp loại': 'chưa đạt'}, {'tên': 'trương', 'điểm': 10.0, 'xếp loại': 'xuất sắc'}, {'tên': 'tuan', 'điểm': 9.0, 'xếp loại': 'xuất sắc'}]\n",
      "Thoát chương trình\n",
      "Danh sách sinh viên đã nhập:\n"
     ]
    }
   ],
   "source": [
    "# Code lab 3  bài 2 ở đây\n",
    "tên = input(\"Nhập tên của bạn: \")\n",
    "điểm = float(input(\"Nhập điểm của bạn: \"))\n",
    "if điểm >= 9 and điểm <=10:\n",
    "    xếp_loại = \"xuất sắc\"\n",
    "elif điểm >= 8.0:\n",
    "    xếp_loại = \"giỏi\"  \n",
    "elif điểm >= 7.0:\n",
    "    xếp_loại = \"khá\"     \n",
    "elif điểm <= 5.0:\n",
    "    xếp_loại = \"chưa đạt\"\n",
    "print(f\"Xin chào {tên}, bạn xếp loại: {xếp_loại}\")\n",
    "\n",
    "\n",
    "\n",
    "\n",
    "\n",
    "\n",
    "\n"
   ]
  },
  {
   "cell_type": "code",
   "execution_count": null,
   "id": "33e8318b",
   "metadata": {},
   "outputs": [],
   "source": [
    "ds_sinhvien = []\n",
    "while True:\n",
    "    tên = input(\"Nhập tên của bạn: \")\n",
    "    if tên == 'q':\n",
    "        break\n",
    "    điểm = float(input(\"Nhập điểm của bạn: \"))\n",
    "    if điểm >= 9 and điểm <=10:\n",
    "        xếp_loại = \"xuất sắc\"\n",
    "    elif điểm >= 8.0:\n",
    "        xếp_loại = \"giỏi\"\n",
    "    elif điểm >= 7.0:\n",
    "        xếp_loại = \"khá\"\n",
    "    elif điểm <= 5.0:\n",
    "        xếp_loại = \"chưa đạt\"\n",
    "    ds_sinhvien.append({\"tên\": tên, \"điểm\": điểm, \"xếp loại\": xếp_loại})\n",
    "print(ds_sinhvien)"
   ]
  },
  {
   "cell_type": "markdown",
   "id": "0f2483fe",
   "metadata": {},
   "source": [
    "## Lab 3 - Bài 3"
   ]
  },
  {
   "cell_type": "code",
   "execution_count": 3,
   "id": "7034990b",
   "metadata": {},
   "outputs": [
    {
     "name": "stdout",
     "output_type": "stream",
     "text": [
      "12 không phải số nguyên tố\n"
     ]
    }
   ],
   "source": [
    "# Code lab 3  bài 3 ở đây\n",
    "n = int(input(\"Nhập một số nguyên : \"))\n",
    "if n < 2:\n",
    "    print(f\"{n} không phải số nguyên tố\")\n",
    "else:\n",
    "    for i in range(2, int(n**0.5) + 1):\n",
    "        if n % i == 0:\n",
    "            print(f\"{n} không phải số nguyên tố\")\n",
    "            break\n",
    "    else:\n",
    "        print(f\"{n} là số nguyên tố\")\n"
   ]
  },
  {
   "cell_type": "markdown",
   "id": "d36ea3d3",
   "metadata": {},
   "source": [
    "## Lab 3 - Bài 4"
   ]
  },
  {
   "cell_type": "code",
   "execution_count": 4,
   "id": "4c707ec1",
   "metadata": {},
   "outputs": [
    {
     "name": "stdout",
     "output_type": "stream",
     "text": [
      "1 x 1 = 1\n",
      "1 x 2 = 2\n",
      "1 x 3 = 3\n",
      "1 x 4 = 4\n",
      "1 x 5 = 5\n",
      "1 x 6 = 6\n",
      "1 x 7 = 7\n",
      "1 x 8 = 8\n",
      "1 x 9 = 9\n",
      "\n",
      "2 x 1 = 2\n",
      "2 x 2 = 4\n",
      "2 x 3 = 6\n",
      "2 x 4 = 8\n",
      "2 x 5 = 10\n",
      "2 x 6 = 12\n",
      "2 x 7 = 14\n",
      "2 x 8 = 16\n",
      "2 x 9 = 18\n",
      "\n",
      "3 x 1 = 3\n",
      "3 x 2 = 6\n",
      "3 x 3 = 9\n",
      "3 x 4 = 12\n",
      "3 x 5 = 15\n",
      "3 x 6 = 18\n",
      "3 x 7 = 21\n",
      "3 x 8 = 24\n",
      "3 x 9 = 27\n",
      "\n",
      "4 x 1 = 4\n",
      "4 x 2 = 8\n",
      "4 x 3 = 12\n",
      "4 x 4 = 16\n",
      "4 x 5 = 20\n",
      "4 x 6 = 24\n",
      "4 x 7 = 28\n",
      "4 x 8 = 32\n",
      "4 x 9 = 36\n",
      "\n",
      "5 x 1 = 5\n",
      "5 x 2 = 10\n",
      "5 x 3 = 15\n",
      "5 x 4 = 20\n",
      "5 x 5 = 25\n",
      "5 x 6 = 30\n",
      "5 x 7 = 35\n",
      "5 x 8 = 40\n",
      "5 x 9 = 45\n",
      "\n",
      "6 x 1 = 6\n",
      "6 x 2 = 12\n",
      "6 x 3 = 18\n",
      "6 x 4 = 24\n",
      "6 x 5 = 30\n",
      "6 x 6 = 36\n",
      "6 x 7 = 42\n",
      "6 x 8 = 48\n",
      "6 x 9 = 54\n",
      "\n",
      "7 x 1 = 7\n",
      "7 x 2 = 14\n",
      "7 x 3 = 21\n",
      "7 x 4 = 28\n",
      "7 x 5 = 35\n",
      "7 x 6 = 42\n",
      "7 x 7 = 49\n",
      "7 x 8 = 56\n",
      "7 x 9 = 63\n",
      "\n",
      "8 x 1 = 8\n",
      "8 x 2 = 16\n",
      "8 x 3 = 24\n",
      "8 x 4 = 32\n",
      "8 x 5 = 40\n",
      "8 x 6 = 48\n",
      "8 x 7 = 56\n",
      "8 x 8 = 64\n",
      "8 x 9 = 72\n",
      "\n",
      "9 x 1 = 9\n",
      "9 x 2 = 18\n",
      "9 x 3 = 27\n",
      "9 x 4 = 36\n",
      "9 x 5 = 45\n",
      "9 x 6 = 54\n",
      "9 x 7 = 63\n",
      "9 x 8 = 72\n",
      "9 x 9 = 81\n",
      "\n"
     ]
    }
   ],
   "source": [
    "# code lab 3 bài 4 ở đây\n",
    "for i in range(1, 10):\n",
    "    for j in range(1, 10):\n",
    "        print(f\"{i} x {j} = {i * j}\")\n",
    "    print()  # Dòng trống giữa các bảng cửu chương"
   ]
  },
  {
   "cell_type": "markdown",
   "id": "e2b41d4a",
   "metadata": {},
   "source": [
    "## Lab 3 - Bài 5: bài tập làm thêm"
   ]
  },
  {
   "cell_type": "code",
   "execution_count": null,
   "id": "0e0172f7",
   "metadata": {},
   "outputs": [],
   "source": [
    "# code lab 3  bài làm thêm ở đây "
   ]
  }
 ],
 "metadata": {
  "kernelspec": {
   "display_name": "Python 3",
   "language": "python",
   "name": "python3"
  },
  "language_info": {
   "codemirror_mode": {
    "name": "ipython",
    "version": 3
   },
   "file_extension": ".py",
   "mimetype": "text/x-python",
   "name": "python",
   "nbconvert_exporter": "python",
   "pygments_lexer": "ipython3",
   "version": "3.13.7"
  }
 },
 "nbformat": 4,
 "nbformat_minor": 5
}
