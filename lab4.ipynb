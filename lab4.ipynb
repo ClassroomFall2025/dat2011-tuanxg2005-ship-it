{
 "cells": [
  {
   "cell_type": "markdown",
   "id": "fdeff819",
   "metadata": {},
   "source": [
    "# Sinh Viên thực hiện Lab 4 ở Đây"
   ]
  },
  {
   "cell_type": "markdown",
   "id": "acc5d7dc",
   "metadata": {},
   "source": [
    "## Lab 1 - Bài 1"
   ]
  },
  {
   "cell_type": "code",
   "execution_count": null,
   "id": "001e0507",
   "metadata": {},
   "outputs": [
    {
     "name": "stdout",
     "output_type": "stream",
     "text": [
      "Tiền nước tháng này của bạn là: 523000 VNĐ\n"
     ]
    }
   ],
   "source": [
    "# Code lab 4 bài 1 ở đây\n",
    "nước = int(input(\"Nhập số nước đã sử dụng (m3): \"))\n",
    "if nước <= 10 and nước >=0:\n",
    "    tiền = nước * 7500\n",
    "elif nước <= 20:\n",
    "    tiền = 10 * 7500 + (nước - 10) * 8800\n",
    "\n",
    "elif nước <=30:\n",
    "    tiền = 10 * 7500 + 10 * 8800 + (nước - 20) * 12000\n",
    "else :\n",
    "\n",
    "    tiền = 10 * 7500 + 10 * 8800 + 10 * 12000 + (nước - 30) * 24000\n",
    "    \n",
    "print(f\"Tiền nước tháng này của bạn là: {tiền} VNĐ\")"
   ]
  },
  {
   "cell_type": "markdown",
   "id": "c0835310",
   "metadata": {},
   "source": [
    "## Lab 4 - Bài 2"
   ]
  },
  {
   "cell_type": "code",
   "execution_count": null,
   "id": "fa9cb39f",
   "metadata": {},
   "outputs": [],
   "source": [
    "# # Code lab 4  bài 2 ở đây\n",
    "# def tinh_nguyen_lieu(s1_bánh_đậu_xanh,s2_bánh_thập_cẩm,s3_bánh_deo):\n",
    "#     bánh_đậu_xanh = {\"đường\": 0.04,\"ĐẬU\": 0.07}\n",
    "#     bánh_thập_cẩm = {\"đường\": 0.06,\"ĐẬU\": 0.04,}\n",
    "#     bánh_deo = {\"đường\": 0.05,\"ĐẬU\": 0.02}\n",
    "#     nguyen_lieu_lam_bánh ={}\n",
    "#     Đường_hop_bánh = s1_bánh_đậu_xanh * bánh_đậu_xanh[\"đường\"] + s2_bánh_thập_cẩm * bánh_thập_cẩm[\"đường\"] + s3_bánh_deo * bánh_deo[\"đường\"]\n",
    "#     Đậu_hop_bánh = s1_bánh_đậu_xanh * bánh_đậu_xanh[\"ĐẬU\"] + s2_bánh_thập_cẩm * bánh_thập_cẩm[\"ĐẬU\"] + s3_bánh_deo * bánh_deo[\"ĐẬU\"]\n",
    "#     nguyen_lieu_lam_bánh[\"đường\"] = Đường_hop_bánh\n",
    "#     nguyen_lieu_lam_bánh[\"ĐẬU\"] = Đậu_hop_bánh\n",
    "#     return nguyen_lieu_lam_bánh"
   ]
  },
  {
   "cell_type": "markdown",
   "id": "0f2483fe",
   "metadata": {},
   "source": [
    "## Lab 4 - Bài 3"
   ]
  },
  {
   "cell_type": "code",
   "execution_count": null,
   "id": "7034990b",
   "metadata": {},
   "outputs": [
    {
     "name": "stdout",
     "output_type": "stream",
     "text": [
      "Các số chẵn trong dãy là: [4]\n"
     ]
    }
   ],
   "source": [
    "# # Code lab 4  bài 3 ở đây\n",
    "# số_nguyên = (input(\"Nhập số nguyên  n: \"))\n",
    "# n = int(số_nguyên)\n",
    "# số_nguyên = list(map(int, số_nguyên.split()))\n",
    "# số_chẵn = list(filter(lambda x: x % 2 == 0, số_nguyên))\n",
    "# print(\"Các số chẵn trong dãy là:\", số_chẵn)\n"
   ]
  },
  {
   "cell_type": "markdown",
   "id": "d36ea3d3",
   "metadata": {},
   "source": [
    "## Lab 4 - Bài 4"
   ]
  },
  {
   "cell_type": "code",
   "execution_count": null,
   "id": "4c707ec1",
   "metadata": {},
   "outputs": [
    {
     "name": "stdout",
     "output_type": "stream",
     "text": [
      "-----------------------\n",
      "1 : Tính tiền nước sinh hoạt\n",
      "2 : Tính nguyên liệu làm bánh\n",
      "3 : Kết Thúc\n",
      "chọn chức năng chương trình\n",
      "số tiền thanh toán cho tiền nước 435.0 là: 10003000.0 VND\n",
      "-----------------------\n",
      "1 : Tính tiền nước sinh hoạt\n",
      "2 : Tính nguyên liệu làm bánh\n",
      "3 : Kết Thúc\n",
      "chọn chức năng chương trình\n",
      "-----------------------\n",
      "1 : Tính tiền nước sinh hoạt\n",
      "2 : Tính nguyên liệu làm bánh\n",
      "3 : Kết Thúc\n",
      "chọn chức năng chương trình\n",
      "-----------------------\n",
      "1 : Tính tiền nước sinh hoạt\n",
      "2 : Tính nguyên liệu làm bánh\n",
      "3 : Kết Thúc\n",
      "chọn chức năng chương trình\n",
      "kết thúc chương trình\n"
     ]
    }
   ],
   "source": [
    "\n",
    "\n",
    "Menu = {\n",
    "        \"1\": \"Tính tiền nước sinh hoạt\",\n",
    "        \"2\": \"Tính nguyên liệu làm bánh\",\n",
    "        \"3\": \"Kết Thúc\"\n",
    "}\n",
    "while True: \n",
    "    print(\"-----------------------\")\n",
    "    for k ,v in Menu.items():\n",
    "        print(f\"{k} : {v}\")\n",
    "    print(\"chọn chức năng chương trình\")\n",
    "    lua_Chon = input(\"Bạn chọn chức năng :\")\n",
    "    if lua_Chon == \"3\":\n",
    "        print(\"kết thúc chương trình\")\n",
    "        break\n",
    "    elif lua_Chon == \"1\":\n",
    "        so_nuoc = float(input(\"nhập số nước: \"))\n",
    "        print(f\"số tiền thanh toán cho tiền nước {so_nuoc} là:\" ,tinh_tien_nuoc(so_nuoc),\"VND\")\n",
    "    elif lua_Chon == \"2\":\n",
    "        sl_bdx = float(input(\"nhập số lượng bánh đậu xanh: \"))\n",
    "        sl_btc = float(input(\"nhập số lượng bánh thập cẩm: \"))\n",
    "        sl_bd = float(input(\"nhập số lượng bánh dẻo: \"))\n",
    "        print(\"nguyên liệu làm bánh\",tinh_nguyen_lieu(sl_bdx, sl_btc, sl_bd))"
   ]
  },
  {
   "cell_type": "markdown",
   "id": "e2b41d4a",
   "metadata": {},
   "source": [
    "## Lab 4 - Bài 5: bài tập làm thêm"
   ]
  },
  {
   "cell_type": "code",
   "execution_count": null,
   "id": "0e0172f7",
   "metadata": {},
   "outputs": [],
   "source": [
    "# code lab 4  bài làm thêm ở đây "
   ]
  }
 ],
 "metadata": {
  "kernelspec": {
   "display_name": "Python 3",
   "language": "python",
   "name": "python3"
  },
  "language_info": {
   "codemirror_mode": {
    "name": "ipython",
    "version": 3
   },
   "file_extension": ".py",
   "mimetype": "text/x-python",
   "name": "python",
   "nbconvert_exporter": "python",
   "pygments_lexer": "ipython3",
   "version": "3.13.7"
  }
 },
 "nbformat": 4,
 "nbformat_minor": 5
}
