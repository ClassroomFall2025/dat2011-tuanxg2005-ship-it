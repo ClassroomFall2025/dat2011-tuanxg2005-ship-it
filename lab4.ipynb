{
 "cells": [
  {
   "cell_type": "markdown",
   "id": "fdeff819",
   "metadata": {},
   "source": [
    "# Sinh Viên thực hiện Lab 4 ở Đây"
   ]
  },
  {
   "cell_type": "markdown",
   "id": "acc5d7dc",
   "metadata": {},
   "source": [
    "## Lab 1 - Bài 1"
   ]
  },
  {
   "cell_type": "code",
   "execution_count": null,
   "id": "001e0507",
   "metadata": {},
   "outputs": [
    {
     "name": "stdout",
     "output_type": "stream",
     "text": [
      "Tiền nước tháng này của bạn là: 523000 VNĐ\n"
     ]
    }
   ],
   "source": [
    "# Code lab 4 bài 1 ở đây\n",
    "nước = int(input(\"Nhập số nước đã sử dụng (m3): \"))\n",
    "if nước <= 10 and nước >=0:\n",
    "    tiền = nước * 7500\n",
    "elif nước <= 20:\n",
    "    tiền = 10 * 7500 + (nước - 10) * 8800\n",
    "\n",
    "elif nước <=30:\n",
    "    tiền = 10 * 7500 + 10 * 8800 + (nước - 20) * 12000\n",
    "else :\n",
    "\n",
    "    tiền = 10 * 7500 + 10 * 8800 + 10 * 12000 + (nước - 30) * 24000\n",
    "    \n",
    "print(f\"Tiền nước tháng này của bạn là: {tiền} VNĐ\")"
   ]
  },
  {
   "cell_type": "markdown",
   "id": "c0835310",
   "metadata": {},
   "source": [
    "## Lab 4 - Bài 2"
   ]
  },
  {
   "cell_type": "code",
   "execution_count": 1,
   "id": "fa9cb39f",
   "metadata": {},
   "outputs": [],
   "source": [
    "# Code lab 4  bài 2 ở đây\n",
    "def tinh_nguyen_lieu(s1_bánh_đậu_xanh,s2_bánh_thập_cẩm,s3_bánh_deo):\n",
    "    bánh_đậu_xanh = {\"đường\": 0.04,\"ĐẬU\": 0.07}\n",
    "    bánh_thập_cẩm = {\"đường\": 0.06,\"ĐẬU\": 0.04,}\n",
    "    bánh_deo = {\"đường\": 0.05,\"ĐẬU\": 0.02}\n",
    "    nguyen_lieu_lam_bánh ={}\n",
    "    Đường_hop_bánh = s1_bánh_đậu_xanh * bánh_đậu_xanh[\"đường\"] + s2_bánh_thập_cẩm * bánh_thập_cẩm[\"đường\"] + s3_bánh_deo * bánh_deo[\"đường\"]\n",
    "    Đậu_hop_bánh = s1_bánh_đậu_xanh * bánh_đậu_xanh[\"ĐẬU\"] + s2_bánh_thập_cẩm * bánh_thập_cẩm[\"ĐẬU\"] + s3_bánh_deo * bánh_deo[\"ĐẬU\"]\n",
    "    nguyen_lieu_lam_bánh[\"đường\"] = Đường_hop_bánh\n",
    "    nguyen_lieu_lam_bánh[\"ĐẬU\"] = Đậu_hop_bánh\n",
    "    return nguyen_lieu_lam_bánh"
   ]
  },
  {
   "cell_type": "markdown",
   "id": "0f2483fe",
   "metadata": {},
   "source": [
    "## Lab 4 - Bài 3"
   ]
  },
  {
   "cell_type": "code",
   "execution_count": 1,
   "id": "7034990b",
   "metadata": {},
   "outputs": [
    {
     "name": "stdout",
     "output_type": "stream",
     "text": [
      "Các số chẵn trong dãy là: [4]\n"
     ]
    }
   ],
   "source": [
    "# Code lab 4  bài 3 ở đây\n",
    "số_nguyên = (input(\"Nhập số nguyên  n: \"))\n",
    "n = int(số_nguyên)\n",
    "số_nguyên = list(map(int, số_nguyên.split()))\n",
    "số_chẵn = list(filter(lambda x: x % 2 == 0, số_nguyên))\n",
    "print(\"Các số chẵn trong dãy là:\", số_chẵn)\n"
   ]
  },
  {
   "cell_type": "markdown",
   "id": "d36ea3d3",
   "metadata": {},
   "source": [
    "## Lab 4 - Bài 4"
   ]
  },
  {
   "cell_type": "code",
   "execution_count": 4,
   "id": "4c707ec1",
   "metadata": {},
   "outputs": [
    {
     "name": "stdout",
     "output_type": "stream",
     "text": [
      "Nguyên liệu làm bánh là: {'đường': 0.33, 'ĐẬU': 0.38000000000000006}\n",
      "Thoát chương trình.\n"
     ]
    }
   ],
   "source": [
    "# code lab 4 bài 4 ở đây\n",
    "def menu():\n",
    "    print (\"\\n  Menu\")\n",
    "    print(\"1 tính tiền nước sinh hoạt\")\n",
    "    print(\"2 tính nguyên liệu làm bánh trung thu\")\n",
    "    print(\"3 thoát\")\n",
    "while True:\n",
    "    Lựa_chọn = (input(\"Nhập lựa chọn của bạn (1-3): \"))\n",
    "    if Lựa_chọn == '1':\n",
    "        nước = int(input(\"Nhập số nước đã sử dụng (m3): \"))\n",
    "        if nước <= 10 and nước >=0:\n",
    "            tiền = nước * 7500\n",
    "        elif nước <= 20:\n",
    "            tiền = 10 * 7500 + (nước - 10) * 8800\n",
    "\n",
    "        elif nước <=30:\n",
    "            tiền = 10 * 7500 + 10 * 8800 + (nước - 20) * 12000\n",
    "        else :\n",
    "\n",
    "            tiền = 10 * 7500 + 10 * 8800 + 10 * 12000 + (nước - 30) * 24000\n",
    "            \n",
    "        print(f\"Tiền nước tháng này của bạn là: {tiền} VNĐ\")\n",
    "    elif Lựa_chọn == '2':\n",
    "        s1_bánh_đậu_xanh = int(input(\"Nhập số bánh đậu xanh: \"))\n",
    "        s2_bánh_thập_cẩm = int(input(\"Nhập số bánh thập cẩm: \"))\n",
    "        s3_bánh_deo = int(input(\"Nhập số bánh dẻo: \"))\n",
    "        def tinh_nguyen_lieu(s1, s2, s3):\n",
    "            bánh_đậu_xanh = {\"đường\": 0.04,\"ĐẬU\": 0.07}\n",
    "            bánh_thập_cẩm = {\"đường\": 0.06,\"ĐẬU\": 0.04,}\n",
    "            bánh_deo = {\"đường\": 0.05,\"ĐẬU\": 0.02}\n",
    "            nguyen_lieu_lam_bánh ={}\n",
    "            Đường_hop_bánh = s1 * bánh_đậu_xanh[\"đường\"] + s2 * bánh_thập_cẩm[\"đường\"] + s3 * bánh_deo[\"đường\"]\n",
    "            Đậu_hop_bánh = s1 * bánh_đậu_xanh[\"ĐẬU\"] + s2 * bánh_thập_cẩm[\"ĐẬU\"] + s3 * bánh_deo[\"ĐẬU\"]\n",
    "            nguyen_lieu_lam_bánh[\"đường\"] = Đường_hop_bánh\n",
    "            nguyen_lieu_lam_bánh[\"ĐẬU\"] = Đậu_hop_bánh\n",
    "            return nguyen_lieu_lam_bánh\n",
    "        nguyên_liệu = tinh_nguyen_lieu(s1_bánh_đậu_xanh,s2_bánh_thập_cẩm,s3_bánh_deo)\n",
    "        print(f\"Nguyên liệu làm bánh là: {nguyên_liệu}\")\n",
    "    elif Lựa_chọn == '3':\n",
    "        print(\"Thoát chương trình.\")\n",
    "        break\n",
    "    else:\n",
    "        print(\"Lựa chọn không hợp lệ. Vui lòng chọn lại.\")\n",
    "        menu()"
   ]
  },
  {
   "cell_type": "markdown",
   "id": "e2b41d4a",
   "metadata": {},
   "source": [
    "## Lab 4 - Bài 5: bài tập làm thêm"
   ]
  },
  {
   "cell_type": "code",
   "execution_count": null,
   "id": "0e0172f7",
   "metadata": {},
   "outputs": [],
   "source": [
    "# code lab 4  bài làm thêm ở đây "
   ]
  }
 ],
 "metadata": {
  "kernelspec": {
   "display_name": "Python 3",
   "language": "python",
   "name": "python3"
  },
  "language_info": {
   "codemirror_mode": {
    "name": "ipython",
    "version": 3
   },
   "file_extension": ".py",
   "mimetype": "text/x-python",
   "name": "python",
   "nbconvert_exporter": "python",
   "pygments_lexer": "ipython3",
   "version": "3.13.7"
  }
 },
 "nbformat": 4,
 "nbformat_minor": 5
}
