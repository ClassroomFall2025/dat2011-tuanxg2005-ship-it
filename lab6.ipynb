{
 "cells": [
  {
   "cell_type": "markdown",
   "id": "fdeff819",
   "metadata": {},
   "source": [
    "# Sinh Viên thực hiện Lab 6 ở Đây"
   ]
  },
  {
   "cell_type": "markdown",
   "id": "acc5d7dc",
   "metadata": {},
   "source": [
    "## Lab 6 - Bài 1"
   ]
  },
  {
   "cell_type": "code",
   "execution_count": 1,
   "id": "001e0507",
   "metadata": {},
   "outputs": [
    {
     "name": "stdout",
     "output_type": "stream",
     "text": [
      "------ Nhập thông tin hình học ------\n",
      "---- Hình chữ nhật 1 ----\n",
      "---- Hình chữ nhật 2 ----\n",
      "---- Hình vuông ----\n",
      "--- KẾT QUẢ ---\n",
      "------ Hình chữ nhật ------\n",
      "Chiều rộng: 2.0\n",
      "Chiều dài: 4.0\n",
      "Chu tích: 12.0\n",
      "Diện tích: 8.0\n",
      "--------------------\n",
      "------ Hình chữ nhật ------\n",
      "Chiều rộng: 2.0\n",
      "Chiều dài: 5.0\n",
      "Chu tích: 14.0\n",
      "Diện tích: 10.0\n",
      "--------------------\n",
      "------ Hình vuông ------\n",
      "Cạnh: 8.0\n",
      "Diện tích: 64.0\n",
      "Chu vi: 32.0\n"
     ]
    }
   ],
   "source": [
    "# Code lab 6 bài 1 ở đây\n",
    "\n",
    "from hinhvuong import *\n",
    "print(\"------ Nhập thông tin hình học ------\")\n",
    "print(\"---- Hình chữ nhật 1 ----\")\n",
    "dai1 = float(input(\"nhập chiều dài: \"))\n",
    "rong1 = float(input(\"Nhập chiều rộng: \"))\n",
    "cn1 = ChuNhat(dai1, rong1)\n",
    "\n",
    "print(\"---- Hình chữ nhật 2 ----\")\n",
    "dai2 = float(input(\"Nhập chiều dài: \"))\n",
    "rong2 = float(input(\"Nhập chiều rộng: \"))\n",
    "cn2 = ChuNhat(dai2, rong2)\n",
    "\n",
    "print(\"---- Hình vuông ----\")\n",
    "canh = float(input(\"Nhập cạnh: \"))\n",
    "vg = Vuong(canh)\n",
    "\n",
    "print(\"--- KẾT QUẢ ---\")\n",
    "cn1.xuat()\n",
    "cn2.xuat()\n",
    "vg.xuat()\n",
    "\n",
    "\n"
   ]
  },
  {
   "cell_type": "markdown",
   "id": "c0835310",
   "metadata": {},
   "source": [
    "## Lab 6 - Bài 2"
   ]
  },
  {
   "cell_type": "code",
   "execution_count": null,
   "id": "fa9cb39f",
   "metadata": {},
   "outputs": [],
   "source": [
    "# Code lab 6  bài 2 ở đây\n"
   ]
  },
  {
   "cell_type": "markdown",
   "id": "0f2483fe",
   "metadata": {},
   "source": [
    "## Lab 6 - Bài 3"
   ]
  },
  {
   "cell_type": "code",
   "execution_count": null,
   "id": "7034990b",
   "metadata": {},
   "outputs": [],
   "source": [
    "# Code lab 6  bài 3 ở đây"
   ]
  },
  {
   "cell_type": "markdown",
   "id": "d36ea3d3",
   "metadata": {},
   "source": [
    "## Lab 6 - Bài 4"
   ]
  },
  {
   "cell_type": "code",
   "execution_count": 1,
   "id": "4c707ec1",
   "metadata": {},
   "outputs": [
    {
     "name": "stdout",
     "output_type": "stream",
     "text": [
      "===MENU CHƯƠNG TRÌNH QUẢN LÝ SINH VIÊN===\n",
      "1. nhập danh sách sinh viên\n",
      "2. xuất thông tin danh sách sinh viên\n",
      "3. xuất danh sách sinh viên có học lực giỏi\n",
      "4. sắp xếp danh sách sinh viên theo điểm\n",
      "5. thoát\n",
      "===END MENU===\n",
      "mời chọn chức năng chương trình:\n"
     ]
    },
    {
     "name": "stdout",
     "output_type": "stream",
     "text": [
      "nhập danh sách sinh viên:\n",
      "kết thúc nhap thong tin sinh vien\n",
      "===MENU CHƯƠNG TRÌNH QUẢN LÝ SINH VIÊN===\n",
      "1. nhập danh sách sinh viên\n",
      "2. xuất thông tin danh sách sinh viên\n",
      "3. xuất danh sách sinh viên có học lực giỏi\n",
      "4. sắp xếp danh sách sinh viên theo điểm\n",
      "5. thoát\n",
      "===END MENU===\n",
      "mời chọn chức năng chương trình:\n",
      "xuất thông tin danh sách sinh viên:\n",
      "\n",
      "=== DANH SÁCH SINH VIÊN ===\n",
      "tuan,it,9.25,Xuất sắc\n",
      "phuc,it,8.0,Giỏi\n",
      "===MENU CHƯƠNG TRÌNH QUẢN LÝ SINH VIÊN===\n",
      "1. nhập danh sách sinh viên\n",
      "2. xuất thông tin danh sách sinh viên\n",
      "3. xuất danh sách sinh viên có học lực giỏi\n",
      "4. sắp xếp danh sách sinh viên theo điểm\n",
      "5. thoát\n",
      "===END MENU===\n",
      "mời chọn chức năng chương trình:\n",
      "xuất danh sách sinh viên có học lực giỏi:\n",
      "\n",
      "=== SINH VIÊN GIỎI ===\n",
      "phuc,it,8.0,Giỏi\n",
      "===MENU CHƯƠNG TRÌNH QUẢN LÝ SINH VIÊN===\n",
      "1. nhập danh sách sinh viên\n",
      "2. xuất thông tin danh sách sinh viên\n",
      "3. xuất danh sách sinh viên có học lực giỏi\n",
      "4. sắp xếp danh sách sinh viên theo điểm\n",
      "5. thoát\n",
      "===END MENU===\n",
      "mời chọn chức năng chương trình:\n",
      "sắp xếp danh sách sinh viên theo điểm:\n"
     ]
    },
    {
     "ename": "TypeError",
     "evalue": "sorted expected 1 argument, got 0",
     "output_type": "error",
     "traceback": [
      "\u001b[31m---------------------------------------------------------------------------\u001b[39m",
      "\u001b[31mTypeError\u001b[39m                                 Traceback (most recent call last)",
      "\u001b[36mCell\u001b[39m\u001b[36m \u001b[39m\u001b[32mIn[1]\u001b[39m\u001b[32m, line 34\u001b[39m\n\u001b[32m     32\u001b[39m \u001b[38;5;28;01mcase\u001b[39;00m \u001b[33m\"\u001b[39m\u001b[33m4\u001b[39m\u001b[33m\"\u001b[39m:\n\u001b[32m     33\u001b[39m     \u001b[38;5;28mprint\u001b[39m(\u001b[33m\"\u001b[39m\u001b[33msắp xếp danh sách sinh viên theo điểm:\u001b[39m\u001b[33m\"\u001b[39m)\n\u001b[32m---> \u001b[39m\u001b[32m34\u001b[39m     \u001b[43mql\u001b[49m\u001b[43m.\u001b[49m\u001b[43msap_xep_theo_diem\u001b[49m\u001b[43m(\u001b[49m\u001b[43m)\u001b[49m\n\u001b[32m     35\u001b[39m \u001b[38;5;28;01mcase\u001b[39;00m\u001b[38;5;250m \u001b[39m\u001b[38;5;28;01m_\u001b[39;00m:\n\u001b[32m     36\u001b[39m     \u001b[38;5;28mprint\u001b[39m(\u001b[33m\"\u001b[39m\u001b[33mchức năng không hợp lệ, mời chọn lại!\u001b[39m\u001b[33m\"\u001b[39m)\n",
      "\u001b[36mFile \u001b[39m\u001b[32md:\\python\\clone\\dat2011-tuanxg2005-ship-it\\quanlysinhvien.py:49\u001b[39m, in \u001b[36mQuanLySinhVien.sap_xep_theo_diem\u001b[39m\u001b[34m(self)\u001b[39m\n\u001b[32m     48\u001b[39m \u001b[38;5;28;01mdef\u001b[39;00m\u001b[38;5;250m \u001b[39m\u001b[34msap_xep_theo_diem\u001b[39m(\u001b[38;5;28mself\u001b[39m):\n\u001b[32m---> \u001b[39m\u001b[32m49\u001b[39m     ds_sap_xep =\u001b[38;5;28;43msorted\u001b[39;49m\u001b[43m(\u001b[49m\u001b[43mkey\u001b[49m\u001b[43m=\u001b[49m\u001b[38;5;28;43;01mlambda\u001b[39;49;00m\u001b[43m \u001b[49m\u001b[43my\u001b[49m\u001b[43m:\u001b[49m\u001b[43my\u001b[49m\u001b[43m.\u001b[49m\u001b[43mget_diem\u001b[49m\u001b[43m(\u001b[49m\u001b[43m)\u001b[49m\u001b[43m,\u001b[49m\u001b[43m \u001b[49m\u001b[43mreverse\u001b[49m\u001b[43m=\u001b[49m\u001b[38;5;28;43;01mTrue\u001b[39;49;00m\u001b[43m)\u001b[49m\n\u001b[32m     50\u001b[39m     \u001b[38;5;28mprint\u001b[39m(\u001b[33m\"\u001b[39m\u001b[33mĐã sắp xếp danh sách theo điểm giảm dần.\u001b[39m\u001b[33m\"\u001b[39m)\n\u001b[32m     51\u001b[39m     \u001b[38;5;28;01mfor\u001b[39;00m sv \u001b[38;5;129;01min\u001b[39;00m ds_sap_xep:\n",
      "\u001b[31mTypeError\u001b[39m: sorted expected 1 argument, got 0"
     ]
    }
   ],
   "source": [
    "# code lab 6 bài 4 ở đây\n",
    "from quanlysinhvien import *\n",
    "ql = QuanLySinhVien()\n",
    "\n",
    "menu = {\n",
    "    \"1\": \"nhập danh sách sinh viên\",\n",
    "    \"2\": \"xuất thông tin danh sách sinh viên\",\n",
    "    \"3\": \"xuất danh sách sinh viên có học lực giỏi\",\n",
    "    \"4\": \"sắp xếp danh sách sinh viên theo điểm\",\n",
    "    \"5\": \"thoát\"\n",
    "}\n",
    "while True:\n",
    "    print(\"===MENU CHƯƠNG TRÌNH QUẢN LÝ SINH VIÊN===\")\n",
    "    for k, v in menu.items():\n",
    "        print(f\"{k}. {v}\")\n",
    "    print(\"===END MENU===\")\n",
    "    print(\"mời chọn chức năng chương trình:\")\n",
    "    lua_chon = input(\"nhập chức năng: \")\n",
    "    match lua_chon:\n",
    "        case \"5\":\n",
    "            print(\"bạn đã thoát chương trình\")\n",
    "            break\n",
    "        case \"1\":\n",
    "            print(\"nhập danh sách sinh viên:\")\n",
    "            ql.nhap_sinh_vien()\n",
    "        case \"2\":\n",
    "            print(\"xuất thông tin danh sách sinh viên:\")\n",
    "            ql.xuat_ds()\n",
    "        case \"3\":\n",
    "            print(\"xuất danh sách sinh viên có học lực giỏi:\")\n",
    "            ql.xuat_sv_gioi()\n",
    "        case \"4\":\n",
    "            print(\"sắp xếp danh sách sinh viên theo điểm:\")\n",
    "            ql.sap_xep_theo_diem()\n",
    "        case _:\n",
    "            print(\"chức năng không hợp lệ, mời chọn lại!\")\n"
   ]
  },
  {
   "cell_type": "markdown",
   "id": "e2b41d4a",
   "metadata": {},
   "source": [
    "## Lab 6 - Bài 5: bài tập làm thêm"
   ]
  },
  {
   "cell_type": "code",
   "execution_count": null,
   "id": "0e0172f7",
   "metadata": {},
   "outputs": [],
   "source": [
    "# code lab 6  bài làm thêm ở đây "
   ]
  }
 ],
 "metadata": {
  "kernelspec": {
   "display_name": "Python 3",
   "language": "python",
   "name": "python3"
  },
  "language_info": {
   "codemirror_mode": {
    "name": "ipython",
    "version": 3
   },
   "file_extension": ".py",
   "mimetype": "text/x-python",
   "name": "python",
   "nbconvert_exporter": "python",
   "pygments_lexer": "ipython3",
   "version": "3.13.7"
  }
 },
 "nbformat": 4,
 "nbformat_minor": 5
}
