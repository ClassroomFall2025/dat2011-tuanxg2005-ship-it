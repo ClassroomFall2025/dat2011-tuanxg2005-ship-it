{
 "cells": [
  {
   "cell_type": "markdown",
   "id": "fdeff819",
   "metadata": {},
   "source": [
    "# Sinh Viên thực hiện Lab 5 ở Đây"
   ]
  },
  {
   "cell_type": "markdown",
   "id": "acc5d7dc",
   "metadata": {},
   "source": [
    "## Lab 5 - Bài 1"
   ]
  },
  {
   "cell_type": "code",
   "execution_count": null,
   "id": "001e0507",
   "metadata": {},
   "outputs": [],
   "source": [
    "# Code lab 5 bài 1 ở đây\n",
    "class Sanpham: \n",
    "    def __init__(self, ten_san_pham, gia, giam_gia):\n",
    "        self.ten_san_pham = ten_san_pham\n",
    "        self.gia = gia\n",
    "        self.__giam_gia = giam_gia\n",
    "    def thue_nhap_khau(self):\n",
    "        return self.gia * 0.1\n",
    "    def nhap_thong_tin_sp(self):\n",
    "        self.ten_san_pham = input(\"Nhập tên sản phẩm: \")\n",
    "        self.gia = float(input(\"Nhập giá sản phẩm: \"))\n",
    "        self.__giam_gia = float(input(\"giam gia: \"))\n",
    "    def xuat_thong_tin_sp(self):\n",
    "        print(f\"Tên sản phẩm: {self.ten_san_pham} có giá {self.gia} và được giảm giá {self.__giam_gia}\")\n",
    "    def __str__(self):\n",
    "        return f\"Sản phẩm {self.ten_san_pham} có giá {self.gia} và được giảm giá {self.__giam_gia} và thuế nhập khẩu là {self.thue_nhap_khau()}\"\n",
    "sp1 = Sanpham(\"Bánh mì\", 10000, 20000)\n",
    "sp1.xuat_thong_tin_sp()\n",
    "print(sp1)"
   ]
  },
  {
   "cell_type": "markdown",
   "id": "c0835310",
   "metadata": {},
   "source": [
    "## Lab 5 - Bài 2"
   ]
  },
  {
   "cell_type": "code",
   "execution_count": null,
   "id": "fa9cb39f",
   "metadata": {},
   "outputs": [
    {
     "name": "stdout",
     "output_type": "stream",
     "text": [
      "Tên sản phẩm: com\n",
      "Có giá: 1500000.0\n",
      "Được giảm giá: 100000.0\n",
      "Thuế nhập khẩu: 150000.0\n",
      "Tên sản phẩm: lựu_dan\n",
      "Có giá: 800000000.0\n",
      "Được giảm giá: 100000.0\n",
      "Thuế nhập khẩu: 80000000.0\n"
     ]
    }
   ],
   "source": [
    "# Code lab 5  bài 2 ở đây\n",
    "from sanpham  import *\n",
    "sp1= SanPham(\"\",\"\",\"\")\n",
    "sp2= SanPham(\"\",\"\",\"\")\n",
    "sp1.nhap_thong_tin_san_pham()\n",
    "sp1.xuat_thong_tin_san_pham()\n",
    "sp2.nhap_thong_tin_san_pham()\n",
    "sp2.xuat_thong_tin_san_pham()"
   ]
  },
  {
   "cell_type": "markdown",
   "id": "0f2483fe",
   "metadata": {},
   "source": [
    "## Lab 5 - Bài 3"
   ]
  },
  {
   "cell_type": "code",
   "execution_count": null,
   "id": "7034990b",
   "metadata": {},
   "outputs": [],
   "source": [
    "from sanpham import *\n",
    "sp1= SanPham(\"\",\"\",\"\")\n",
    "sp1 .nhap_thong_tin_san_pham()\n",
    "sp1 .xuat_thong_tin_san_pham()"
   ]
  },
  {
   "cell_type": "markdown",
   "id": "d36ea3d3",
   "metadata": {},
   "source": [
    "## Lab 5 - Bài 4"
   ]
  },
  {
   "cell_type": "code",
   "execution_count": null,
   "id": "4c707ec1",
   "metadata": {},
   "outputs": [],
   "source": [
    "# code lab 5 bài 4 ở đây"
   ]
  },
  {
   "cell_type": "markdown",
   "id": "e2b41d4a",
   "metadata": {},
   "source": [
    "## Lab 5 - Bài 5: bài tập làm thêm"
   ]
  },
  {
   "cell_type": "code",
   "execution_count": null,
   "id": "0e0172f7",
   "metadata": {},
   "outputs": [],
   "source": [
    "# code lab 5  bài làm thêm ở đây "
   ]
  }
 ],
 "metadata": {
  "kernelspec": {
   "display_name": "Python 3",
   "language": "python",
   "name": "python3"
  },
  "language_info": {
   "codemirror_mode": {
    "name": "ipython",
    "version": 3
   },
   "file_extension": ".py",
   "mimetype": "text/x-python",
   "name": "python",
   "nbconvert_exporter": "python",
   "pygments_lexer": "ipython3",
   "version": "3.13.7"
  }
 },
 "nbformat": 4,
 "nbformat_minor": 5
}
