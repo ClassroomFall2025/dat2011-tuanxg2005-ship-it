{
 "cells": [
  {
   "cell_type": "markdown",
   "id": "fdeff819",
   "metadata": {},
   "source": [
    "# Sinh Viên thực hiện Lab 7 ở Đây"
   ]
  },
  {
   "cell_type": "markdown",
   "id": "acc5d7dc",
   "metadata": {},
   "source": [
    "## Lab 7 - Bài 1"
   ]
  },
  {
   "cell_type": "code",
   "execution_count": 1,
   "id": "001e0507",
   "metadata": {},
   "outputs": [
    {
     "name": "stdout",
     "output_type": "stream",
     "text": [
      "Tự nguyện\n",
      "Trương Quốc Khánh\n",
      "Nếu là chim, tôi sẽ là loài bồ câu trắng\n",
      "Nếu là hoa, tôi sẽ là một đóa hướng dương\n",
      "Nếu là mây, tôi sẽ là một vầng mây ấm\n",
      "Là người, tôi sẽ chết cho quê hương.\n",
      "\n",
      "Là chim, tôi sẽ cất cao đôi cánh mềm\n",
      "Từ nam ra ngoài bắc báo tin nối liền\n",
      "Là hoa, tôi nở tình yêu ban sớm\n",
      "Cùng muôn trái tim ngất ngây hoà bình.\n",
      "\n",
      "Là mây, theo làn gió tung bay khắp trời\n",
      "Nghìn xưa oai hùng đó tôi xin tiếp lời\n",
      "Là người, xin một lần khi nằm xuống\n",
      "Nhìn anh em đứng lên phất cao ngọn cờ.\n",
      "Toàn bộ nội dung file:\n",
      "\n",
      "Tự nguyện\n",
      "Trương Quốc Khánh\n",
      "Nếu là chim, tôi sẽ là loài bồ câu trắng\n",
      "Nếu là hoa, tôi sẽ là một đóa hướng dương\n",
      "Nếu là mây, tôi sẽ là một vầng mây ấm\n",
      "Là người, tôi sẽ chết cho quê hương.\n",
      "\n",
      "Là chim, tôi sẽ cất cao đôi cánh mềm\n",
      "Từ nam ra ngoài bắc báo tin nối liền\n",
      "Là hoa, tôi nở tình yêu ban sớm\n",
      "Cùng muôn trái tim ngất ngây hoà bình.\n",
      "\n",
      "Là mây, theo làn gió tung bay khắp trời\n",
      "Nghìn xưa oai hùng đó tôi xin tiếp lời\n",
      "Là người, xin một lần khi nằm xuống\n",
      "Nhìn anh em đứng lên phất cao ngọn cờ.\n",
      "\n",
      " Tên bài thơ: Tự nguyện\n",
      "  Tác giả: Trương Quốc Khánh\n",
      "Tự nguyện\n",
      "Trương Quốc Khánh\n",
      "Nếu là chim, tôi sẽ là loài bồ câu trắng\n",
      "Nếu là hoa, tôi sẽ là một đóa hướng dương\n",
      "Nếu là mây, tôi sẽ là một vầng mây ấm\n",
      "Là người, tôi sẽ chết cho quê hương.\n",
      "\n",
      "Là chim, tôi sẽ cất cao đôi cánh mềm\n",
      "Từ nam ra ngoài bắc báo tin nối liền\n",
      "Là hoa, tôi nở tình yêu ban sớm\n",
      "Cùng muôn trái tim ngất ngây hoà bình.\n",
      "\n",
      "Là mây, theo làn gió tung bay khắp trời\n",
      "Nghìn xưa oai hùng đó tôi xin tiếp lời\n",
      "Là người, xin một lần khi nằm xuống\n",
      "Nhìn anh em đứng lên phất cao ngọn cờ.\n",
      " Không tìm thấy file! Hãy kiểm tra lại đường dẫn hoặc tên file.\n",
      " Không tìm thấy file! Hãy kiểm tra lại đường dẫn hoặc tên file.\n"
     ]
    },
    {
     "name": "stderr",
     "output_type": "stream",
     "text": [
      "<>:2: SyntaxWarning: invalid escape sequence '\\p'\n",
      "<>:8: SyntaxWarning: invalid escape sequence '\\p'\n",
      "<>:2: SyntaxWarning: invalid escape sequence '\\p'\n",
      "<>:8: SyntaxWarning: invalid escape sequence '\\p'\n",
      "C:\\Users\\tuan\\AppData\\Local\\Temp\\ipykernel_19544\\3192429007.py:2: SyntaxWarning: invalid escape sequence '\\p'\n",
      "  with open(\"D:\\python\\Resource.txt\", \"r\", encoding=\"utf-8\") as f:\n",
      "C:\\Users\\tuan\\AppData\\Local\\Temp\\ipykernel_19544\\3192429007.py:8: SyntaxWarning: invalid escape sequence '\\p'\n",
      "  file_path = \"D:\\python\\Resource.txt\"\n"
     ]
    }
   ],
   "source": [
    "# Code lab 7 bài 1 ở đây\n",
    "with open(\"D:\\python\\Resource.txt\", \"r\", encoding=\"utf-8\") as f:\n",
    "    data = f.read()\n",
    "    print(data)\n",
    "import os\n",
    "\n",
    "# Đường dẫn tới file (thay lại nếu khác)\n",
    "file_path = \"D:\\python\\Resource.txt\"\n",
    "\n",
    "# Kiểm tra file có tồn tại hay không\n",
    "if os.path.exists(file_path):\n",
    "    # Mở file bằng chế độ đọc\n",
    "    with open(file_path, \"r\", encoding=\"utf-8\") as f:\n",
    "        # Đọc toàn bộ nội dung\n",
    "        content = f.read()\n",
    "        print(\"Toàn bộ nội dung file:\\n\")\n",
    "        print(content)\n",
    "\n",
    "    # Đọc lại để lấy dòng đầu và dòng hai\n",
    "    with open(file_path, \"r\", encoding=\"utf-8\") as f:\n",
    "        lines = f.readlines()\n",
    "\n",
    "        # 9 ký tự đầu tiên (tên bài thơ)\n",
    "        poem_name = lines[0][:9]\n",
    "        print(\"\\n Tên bài thơ:\", poem_name)\n",
    "\n",
    "        # Dòng thứ 2 là tên tác giả\n",
    "        if len(lines) > 1:\n",
    "            author = lines[1].strip()\n",
    "            print(\"  Tác giả:\", author)\n",
    "        else:\n",
    "            print(\"  Không tìm thấy dòng thứ hai trong file.\")\n",
    "\n",
    "else:\n",
    "    print(\" Không tìm thấy file! Hãy kiểm tra lại đường dẫn hoặc tên file.\")\n",
    "    data = f.read()\n",
    "    print(data)\n",
    "import os\n",
    "\n",
    "# Đường dẫn tới file (thay lại nếu khác)\n",
    "file_path = \"D:/python/Resource.txt\"\n",
    "with open(file_path, \"r\", encoding=\"utf-8\") as f:\n",
    "    data = f.read()\n",
    "    print(data)\n",
    "import os\n",
    "\n",
    "# Đường dẫn tới file (thay lại nếu khác)\n",
    "file_path = \"D:/dat 11/drive-download-20250916T095908Z-1-001/Lab/DAT2011 - Lab 7 - Resource.txt\"\n",
    "\n",
    "# Kiểm tra file có tồn tại hay không\n",
    "if os.path.exists(file_path):\n",
    "    # Mở file bằng chế độ đọc\n",
    "    with open(file_path, \"r\", encoding=\"utf-8\") as f:\n",
    "        # Đọc toàn bộ nội dung\n",
    "        content = f.read()\n",
    "        print(\"Toàn bộ nội dung file:\\n\")\n",
    "        print(content)\n",
    "\n",
    "    # Đọc lại để lấy dòng đầu và dòng hai\n",
    "    with open(file_path, \"r\", encoding=\"utf-8\") as f:\n",
    "        lines = f.readlines()\n",
    "\n",
    "        # 9 ký tự đầu tiên (tên bài thơ)\n",
    "        poem_name = lines[0][:9]\n",
    "        print(\"\\n Tên bài thơ:\", poem_name)\n",
    "\n",
    "        # Dòng thứ 2 là tên tác giả\n",
    "        if len(lines) > 1:\n",
    "            author = lines[1].strip()\n",
    "            print(\"  Tác giả:\", author)\n",
    "        else:\n",
    "            print(\"  Không tìm thấy dòng thứ hai trong file.\")\n",
    "\n",
    "else:\n",
    "    print(\" Không tìm thấy file! Hãy kiểm tra lại đường dẫn hoặc tên file.\")\n",
    "\n",
    "# Kiểm tra file có tồn tại hay không\n",
    "if os.path.exists(file_path):\n",
    "    # Mở file bằng chế độ đọc\n",
    "    with open(file_path, \"r\", encoding=\"utf-8\") as f:\n",
    "        # Đọc toàn bộ nội dung\n",
    "        content = f.read()\n",
    "        print(\"Toàn bộ nội dung file:\\n\")\n",
    "        print(content)\n",
    "\n",
    "    # Đọc lại để lấy dòng đầu và dòng hai\n",
    "    with open(file_path, \"r\", encoding=\"utf-8\") as f:\n",
    "        lines = f.readlines()\n",
    "\n",
    "        # 9 ký tự đầu tiên (tên bài thơ)\n",
    "        poem_name = lines[0][:9]\n",
    "        print(\"\\n Tên bài thơ:\", poem_name)\n",
    "\n",
    "        # Dòng thứ 2 là tên tác giả\n",
    "        if len(lines) > 1:\n",
    "            author = lines[1].strip()\n",
    "            print(\"  Tác giả:\", author)\n",
    "        else:\n",
    "            print(\"  Không tìm thấy dòng thứ hai trong file.\")\n",
    "\n",
    "else:\n",
    "    print(\" Không tìm thấy file! Hãy kiểm tra lại đường dẫn hoặc tên file.\")"
   ]
  },
  {
   "cell_type": "markdown",
   "id": "c0835310",
   "metadata": {},
   "source": [
    "## Lab 7 - Bài 2"
   ]
  },
  {
   "cell_type": "code",
   "execution_count": 2,
   "id": "fa9cb39f",
   "metadata": {},
   "outputs": [
    {
     "name": "stdout",
     "output_type": "stream",
     "text": [
      "Đã ghi nội dung vào file thành công!\n"
     ]
    }
   ],
   "source": [
    "# Code lab 7  bài 2 ở đây\n",
    "# Đường dẫn tới file mới\n",
    "output_file = \"D:/python/Lab7-Exercise2.txt\"\n",
    "\n",
    "# Nội dung cần ghi\n",
    "content = \"\"\"Nếu một mai tôi có bay lên trời\n",
    "Thì người ơi tôi đã sống rất thảnh thơi\n",
    "\n",
    "Nếu một mai tôi có đi qua đời\n",
    "Thì người ơi tôi đã sống rất tuyệt vời\n",
    "\"\"\"\n",
    "with open(output_file, \"w\", encoding=\"utf-8\") as f:\n",
    "    f.write(content)\n",
    "\n",
    "print(\"Đã ghi nội dung vào file thành công!\")"
   ]
  },
  {
   "cell_type": "markdown",
   "id": "0f2483fe",
   "metadata": {},
   "source": [
    "## Lab 7 - Bài 3"
   ]
  },
  {
   "cell_type": "code",
   "execution_count": 1,
   "id": "7034990b",
   "metadata": {},
   "outputs": [
    {
     "name": "stdout",
     "output_type": "stream",
     "text": [
      " nhap ten thong tin bai tho 1:\n",
      "da luu thong tin bai tho vao file CSV.\n",
      " nhap ten thong tin bai tho 2:\n",
      "da luu thong tin bai tho vao file CSV.\n",
      " nhap ten thong tin bai tho 3:\n",
      "da luu thong tin bai tho vao file CSV.\n",
      " nhap ten thong tin bai tho 4:\n",
      "da luu thong tin bai tho vao file CSV.\n",
      " nhap ten thong tin bai tho 5:\n",
      "da luu thong tin bai tho vao file CSV.\n"
     ]
    }
   ],
   "source": [
    "# Code lab 7  bài 3 ở đây\n",
    "import csv\n",
    "csv_file_path = \"D:/python/Lab7-Exercise1.csv\"\n",
    "with open(csv_file_path, mode=\"w\", newline=\"\", encoding=\"utf-8\") as f:\n",
    "    writer = csv.writer(f)\n",
    "\n",
    "    writer.writerow([\"tieu de\", \"tac gia\", \"nam xuat ban\"])\n",
    "    for i in range(5):\n",
    "        print(f\" nhap ten thong tin bai tho {i+1}:\")\n",
    "        tieu_de = input(\"nhap tieu de:\")\n",
    "        tac_gia = input(\"nhap ten tac gia:\")\n",
    "        nam_xuat_ban = input(\"nhap nam xuat ban:\")\n",
    "        writer.writerow([tieu_de, tac_gia, nam_xuat_ban])\n",
    "        print(\"da luu thong tin bai tho vao file CSV.\")\n",
    "    \n"
   ]
  },
  {
   "cell_type": "markdown",
   "id": "d36ea3d3",
   "metadata": {},
   "source": [
    "## Lab 7 - Bài 4"
   ]
  },
  {
   "cell_type": "code",
   "execution_count": 1,
   "id": "4c707ec1",
   "metadata": {},
   "outputs": [
    {
     "name": "stdout",
     "output_type": "stream",
     "text": [
      "['Tự nguyện\\n', 'Trương Quốc Khánh\\n', 'Nếu là chim, tôi sẽ là loài bồ câu trắng\\n', 'Nếu là hoa, tôi sẽ là một đóa hướng dương\\n', 'Nếu là mây, tôi sẽ là một vầng mây ấm\\n', 'Là người, tôi sẽ chết cho quê hương.\\n', '\\n', 'Là chim, tôi sẽ cất cao đôi cánh mềm\\n', 'Từ nam ra ngoài bắc báo tin nối liền\\n', 'Là hoa, tôi nở tình yêu ban sớm\\n', 'Cùng muôn trái tim ngất ngây hoà bình.\\n', '\\n', 'Là mây, theo làn gió tung bay khắp trời\\n', 'Nghìn xưa oai hùng đó tôi xin tiếp lời\\n', 'Là người, xin một lần khi nằm xuống\\n', 'Nhìn anh em đứng lên phất cao ngọn cờ.']\n",
      "Tự nguyện\n",
      "\n",
      "Trương Quốc Khánh\n",
      "\n",
      "Nếu là chim, tôi sẽ là loài bồ câu trắng\n",
      "\n",
      "Nếu là hoa, tôi sẽ là một đóa hướng dương\n",
      "\n",
      "Nếu là mây, tôi sẽ là một vầng mây ấm\n",
      "\n",
      "Là người, tôi sẽ chết cho quê hương.\n",
      "\n",
      "\n",
      "\n",
      "Là chim, tôi sẽ cất cao đôi cánh mềm\n",
      "\n",
      "Từ nam ra ngoài bắc báo tin nối liền\n",
      "\n",
      "Là hoa, tôi nở tình yêu ban sớm\n",
      "\n",
      "Cùng muôn trái tim ngất ngây hoà bình.\n",
      "\n",
      "\n",
      "\n",
      "Là mây, theo làn gió tung bay khắp trời\n",
      "\n",
      "Nghìn xưa oai hùng đó tôi xin tiếp lời\n",
      "\n",
      "Là người, xin một lần khi nằm xuống\n",
      "\n",
      "Nhìn anh em đứng lên phất cao ngọn cờ.\n",
      "Tạo file dữ liệu XML thành công!\n"
     ]
    }
   ],
   "source": [
    "# code lab 7 bài 4 ở đây\n",
    "filename = input(\"Nhập tên file .xml muốn tạo: \")\n",
    "ten_bai_tho = \"Tự nguyện\"\n",
    "ten_tac_gia = \"Trương Quốc Khánh\"\n",
    "with open(\"D:/python/Resource.txt\", \"r\", encoding=\"utf-8\") as file:\n",
    "    lines = [line.strip() for line in file.readlines()]\n",
    "with open(\"D:/python/Resource.txt\", \"r\", encoding=\"utf-8\") as file:\n",
    "    dong = file.readlines()\n",
    "    print(dong)\n",
    "for d in dong:\n",
    "    print(d)\n",
    "with open(filename, \"w\", encoding=\"utf-8\") as f1:\n",
    "    f1.write(\"<poem>\\n\")\n",
    "    f1.write(f\"  <title>{ten_bai_tho}</title>\\n\")\n",
    "    f1.write(f\"  <author>{ten_tac_gia}</author>\\n\")\n",
    "    for section in lines:\n",
    "        if section:\n",
    "            f1.write(\"  <section>\\n\")\n",
    "            f1.write(f\"    <line>{section}</line>\\n\")\n",
    "            f1.write(\"  </section>\\n\")\n",
    "print(\"Tạo file dữ liệu XML thành công!\")"
   ]
  },
  {
   "cell_type": "markdown",
   "id": "e2b41d4a",
   "metadata": {},
   "source": [
    "## Lab 7 - Bài 5: bài tập làm thêm"
   ]
  },
  {
   "cell_type": "code",
   "execution_count": null,
   "id": "0e0172f7",
   "metadata": {},
   "outputs": [],
   "source": [
    "# code lab 7  bài làm thêm ở đây "
   ]
  }
 ],
 "metadata": {
  "kernelspec": {
   "display_name": "Python 3",
   "language": "python",
   "name": "python3"
  },
  "language_info": {
   "codemirror_mode": {
    "name": "ipython",
    "version": 3
   },
   "file_extension": ".py",
   "mimetype": "text/x-python",
   "name": "python",
   "nbconvert_exporter": "python",
   "pygments_lexer": "ipython3",
   "version": "3.13.7"
  }
 },
 "nbformat": 4,
 "nbformat_minor": 5
}
