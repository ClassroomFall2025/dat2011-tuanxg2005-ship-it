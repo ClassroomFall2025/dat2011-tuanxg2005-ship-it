{
 "cells": [
  {
   "cell_type": "markdown",
   "id": "fdeff819",
   "metadata": {},
   "source": [
    "# Sinh Viên thực hiện Lab 1 ở Đây"
   ]
  },
  {
   "cell_type": "markdown",
   "id": "acc5d7dc",
   "metadata": {},
   "source": [
    "## ASM_GD1"
   ]
  },
  {
   "cell_type": "code",
   "execution_count": 1,
   "id": "001e0507",
   "metadata": {},
   "outputs": [
    {
     "name": "stdout",
     "output_type": "stream",
     "text": [
      ". Nhập danh sách nhân viên từ bàn phím\n"
     ]
    }
   ],
   "source": [
    "# Code\n",
    "menu = int(input(\"Nhập lựa chọn (0/1/2/3/4/5/6/7/8/9): \"))\n",
    "match menu :\n",
    "    case 1:\n",
    "        print(\". Nhập danh sách nhân viên từ bàn phím\")\n",
    "    case 2:\n",
    "        print(\". Đọc thông tin nhân viên từ file và xuất danh sách nhân viên ra màn hình\")\n",
    "    case 3:\n",
    "        print(\"Tìm và hiển thị nhân viên theo mã nhập từ bàn phím\")\n",
    "    case 4:\n",
    "        print(\"Xóa nhân viên theo mã nhập từ bàn phím\")\n",
    "    case 5:\n",
    "        print(\"Cập nhật thông tin nhân viên theo mã nhập từ bàn phím\")\n",
    "    case 6:\n",
    "        print(\"Tìm các nhân viên theo khoảng lương nhập từ bàn phím\")\n",
    "    case 7:\n",
    "        print(\"Sắp xếp nhân viên theo họ và tên\")\n",
    "    case 8:\n",
    "        print(\"Sắp xếp nhân viên theo thu nhập\")\n",
    "    case 9:\n",
    "        print(\"Xuất 5 nhân viên có thu nhập cao nhất\")\n",
    "        if menu ==0 :\n",
    "           print(\"Quay lại\")"
   ]
  }
 ],
 "metadata": {
  "kernelspec": {
   "display_name": "Python 3",
   "language": "python",
   "name": "python3"
  },
  "language_info": {
   "codemirror_mode": {
    "name": "ipython",
    "version": 3
   },
   "file_extension": ".py",
   "mimetype": "text/x-python",
   "name": "python",
   "nbconvert_exporter": "python",
   "pygments_lexer": "ipython3",
   "version": "3.13.7"
  }
 },
 "nbformat": 4,
 "nbformat_minor": 5
}
