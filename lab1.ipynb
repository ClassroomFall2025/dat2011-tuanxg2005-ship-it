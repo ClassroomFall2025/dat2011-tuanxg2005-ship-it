{
 "cells": [
  {
   "cell_type": "markdown",
   "id": "fdeff819",
   "metadata": {},
   "source": [
    "# Sinh Viên thực hiện Lab 1 ở Đây"
   ]
  },
  {
   "cell_type": "markdown",
   "id": "acc5d7dc",
   "metadata": {},
   "source": [
    "## Lab 1 - Bài 1"
   ]
  },
  {
   "cell_type": "code",
   "execution_count": 3,
   "id": "001e0507",
   "metadata": {},
   "outputs": [
    {
     "name": "stdout",
     "output_type": "stream",
     "text": [
      "xin chào thầy cô và các bạn\n",
      " em tên là Đỗ Anh Tuấn\n",
      "em đến từ bình định \n"
     ]
    }
   ],
   "source": [
    "# Code lab 1 bài 1 ở đây\n",
    "print(\"xin chào thầy cô và các bạn\")\n",
    "print (' em tên là Đỗ Anh Tuấn' )\n",
    "print('em đến từ bình định ')"
   ]
  },
  {
   "cell_type": "markdown",
   "id": "c0835310",
   "metadata": {},
   "source": [
    "## Lab 1 - Bài 2"
   ]
  },
  {
   "cell_type": "code",
   "execution_count": 4,
   "id": "fa9cb39f",
   "metadata": {},
   "outputs": [
    {
     "name": "stdout",
     "output_type": "stream",
     "text": [
      "Chu vi hình chữ nhật là: 20.0\n",
      "Diện tích hình chữ nhật là: 21.0\n"
     ]
    }
   ],
   "source": [
    "# Code lab 1  bài 2 ở đây\n",
    "dai = float(input(\"Nhập chiều dài hình chữ nhật: \"))\n",
    "rong = float(input(\"Nhập chiều rộng hình chữ nhật: \"))\n",
    "\n",
    "chu_vi = (dai + rong) * 2\n",
    "dien_tich = dai * rong\n",
    "\n",
    "print(f\"Chu vi hình chữ nhật là: {chu_vi}\")\n",
    "print(f\"Diện tích hình chữ nhật là: {dien_tich}\")"
   ]
  },
  {
   "cell_type": "markdown",
   "id": "0f2483fe",
   "metadata": {},
   "source": [
    "## Lab 1 - Bài 3"
   ]
  },
  {
   "cell_type": "code",
   "execution_count": 5,
   "id": "7034990b",
   "metadata": {},
   "outputs": [
    {
     "name": "stdout",
     "output_type": "stream",
     "text": [
      "...\n",
      "Sống khôngông giận,không hờn không oán trách\n",
      "Sống mỉm cười, với thử thách chông gai\n",
      "Sống vươn lên,theo kịp ánh ban maimai\n",
      "Sống chan hòa, với những người chung sống. \n",
      "\n",
      "Sống là động, nhưng lòng luôn bất độngđộng\n",
      "Sống là thương, nhưng lòng chẳn vấn vương\n",
      "Sống yên vui, danh lợi mãi coi thườngthường\n",
      "Tâm bất biến, giữa dòng đời vạn biển. \n",
      "...\n"
     ]
    }
   ],
   "source": [
    "# Code lab 1  bài 3 ở đây\n",
    "print(\"...\" \\\n",
    "\"\")\n",
    "print(\"Sống khôngông giận,không hờn không oán trách\")\n",
    "print(\"Sống mỉm cười, với thử thách chông gai\")\n",
    "print(\"Sống vươn lên,theo kịp ánh ban maimai\")\n",
    "print(\"Sống chan hòa, với những người chung sống. \")\n",
    "print()\n",
    "print(\"Sống là động, nhưng lòng luôn bất độngđộng\")\n",
    "print(\"Sống là thương, nhưng lòng chẳn vấn vương\")\n",
    "print(\"Sống yên vui, danh lợi mãi coi thườngthường\")\n",
    "print(\"Tâm bất biến, giữa dòng đời vạn biển. \")\n",
    "print(\"...\" \\\n",
    "\"\")"
   ]
  },
  {
   "cell_type": "markdown",
   "id": "d36ea3d3",
   "metadata": {},
   "source": [
    "## Lab 1 - Bài 4"
   ]
  },
  {
   "cell_type": "code",
   "execution_count": 6,
   "id": "4c707ec1",
   "metadata": {},
   "outputs": [
    {
     "name": "stdout",
     "output_type": "stream",
     "text": [
      "Nghiệm x1 = -0.6666666666666666, x2 = -0.6666666666666666\n"
     ]
    }
   ],
   "source": [
    "# code lab 1 bài 4 ở đây\n",
    "import math\n",
    "a = float(input(\"Nhập hệ số a: \"))\n",
    "b = float(input(\"Nhập hệ số b: \"))\n",
    "c = float(input(\"Nhập hệ số c: \"))\n",
    "delta=b**2-4*a*c\n",
    "if delta >= 0:\n",
    "\tx1 = (-b + math.sqrt(delta)) / (2*a)\n",
    "\tx2 = (-b - math.sqrt(delta)) / (2*a)\n",
    "\tprint(f\"Nghiệm x1 = {x1}, x2 = {x2}\")\n",
    "else:\n",
    "\tprint(\"phương trình vô nghiệm\")"
   ]
  },
  {
   "cell_type": "markdown",
   "id": "e2b41d4a",
   "metadata": {},
   "source": [
    "## Lab 1 - Bài 5: bài tập làm thêm"
   ]
  },
  {
   "cell_type": "code",
   "execution_count": null,
   "id": "0e0172f7",
   "metadata": {},
   "outputs": [],
   "source": [
    "# code lab 1  bài làm thêm ở đây "
   ]
  }
 ],
 "metadata": {
  "kernelspec": {
   "display_name": "Python 3",
   "language": "python",
   "name": "python3"
  },
  "language_info": {
   "codemirror_mode": {
    "name": "ipython",
    "version": 3
   },
   "file_extension": ".py",
   "mimetype": "text/x-python",
   "name": "python",
   "nbconvert_exporter": "python",
   "pygments_lexer": "ipython3",
   "version": "3.13.7"
  }
 },
 "nbformat": 4,
 "nbformat_minor": 5
}
